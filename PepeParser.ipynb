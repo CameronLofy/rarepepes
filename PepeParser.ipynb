{
 "cells": [
  {
   "cell_type": "code",
   "execution_count": 1,
   "metadata": {},
   "outputs": [],
   "source": [
    "import requests\n",
    "from bs4 import BeautifulSoup\n",
    "import smtplib"
   ]
  },
  {
   "cell_type": "code",
   "execution_count": 2,
   "metadata": {},
   "outputs": [],
   "source": [
    "URL = 'http://rarepepedirectory.com/?cat=6'"
   ]
  },
  {
   "cell_type": "code",
   "execution_count": 3,
   "metadata": {},
   "outputs": [],
   "source": [
    "headers = {\"User Agent\": 'Mozilla/5.0 (Windows NT 10.0; Win64; x64) AppleWebKit/537.36 (KHTML, like Gecko) Chrome/78.0.3904.70 Safari/537.36'}"
   ]
  },
  {
   "cell_type": "code",
   "execution_count": 4,
   "metadata": {},
   "outputs": [],
   "source": [
    "page = requests.get(URL)"
   ]
  },
  {
   "cell_type": "code",
   "execution_count": 5,
   "metadata": {},
   "outputs": [],
   "source": [
    "soup = BeautifulSoup(page.content, 'html.parser')"
   ]
  },
  {
   "cell_type": "code",
   "execution_count": 91,
   "metadata": {},
   "outputs": [],
   "source": [
    "page_block = soup.find('span')\n",
    "page_block.get_text()\n",
    "\n",
    "# soup.findAll('class=\"assetDropdownItem-name missingPepeTrans\"')\n",
    "# name_box = soup.find('div', attrs={'class': 'assetDropdownItem-name missingPepeTrans'})\n",
    "\n",
    "#name_box = soup.find(\"span\", {\"class\": \"small\"})\n",
    "\n",
    "#soup.find(\"div\", {\"class\": \"assetDropdownItem-name missingPepeTrans\", \"data-asset\": True})['data-asset']"
   ]
  },
  {
   "cell_type": "code",
   "execution_count": 92,
   "metadata": {
    "scrolled": true
   },
   "outputs": [
    {
     "name": "stdout",
     "output_type": "stream",
     "text": [
      "<span class=\"entry-main\">\n",
      "<h2 class=\"entry-title\">FORTYTWOPEPE</h2><!-- .entry-title -->\n",
      "<p>ASSET NAME: FORTYTWOPEPE AMOUNT ISSUED 42 http://blockscan.com/asset?q=FORTYTWOPEPE</p>\n",
      "</span>\n"
     ]
    }
   ],
   "source": [
    "print(page_block)\n",
    "#name = name_box.text.strip()"
   ]
  },
  {
   "cell_type": "code",
   "execution_count": 94,
   "metadata": {},
   "outputs": [
    {
     "data": {
      "text/plain": [
       "'\\nFORTYTWOPEPE\\nASSET NAME: FORTYTWOPEPE AMOUNT ISSUED 42 http://blockscan.com/asset?q=FORTYTWOPEPE\\n'"
      ]
     },
     "execution_count": 94,
     "metadata": {},
     "output_type": "execute_result"
    }
   ],
   "source": [
    "#soup.a\n",
    "page_block.get_text()"
   ]
  },
  {
   "cell_type": "code",
   "execution_count": null,
   "metadata": {},
   "outputs": [],
   "source": []
  }
 ],
 "metadata": {
  "kernelspec": {
   "display_name": "Python 3",
   "language": "python",
   "name": "python3"
  },
  "language_info": {
   "codemirror_mode": {
    "name": "ipython",
    "version": 3
   },
   "file_extension": ".py",
   "mimetype": "text/x-python",
   "name": "python",
   "nbconvert_exporter": "python",
   "pygments_lexer": "ipython3",
   "version": "3.7.4"
  }
 },
 "nbformat": 4,
 "nbformat_minor": 2
}
