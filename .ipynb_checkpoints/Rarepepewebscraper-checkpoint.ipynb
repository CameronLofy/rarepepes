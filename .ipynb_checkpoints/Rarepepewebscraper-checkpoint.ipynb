{
 "cells": [
  {
   "cell_type": "code",
   "execution_count": null,
   "metadata": {},
   "outputs": [],
   "source": [
    "from bs4 import BeautifulSoup\n",
    "import requests\n",
    "import pandas as pd\n",
    "# Here, we're just importing both Beautiful Soup and the Requests library\n",
    "page_link = 'http://rarepepedirectory.com/?cat=6'\n",
    "# this is the url that we've already determined is safe and legal to scrape from.\n",
    "page_response = requests.get(page_link, timeout=5)\n",
    "# here, we fetch the content from the url, using the requests library\n",
    "page_content = BeautifulSoup(page_response.content, \"html.parser\")\n",
    "#we use the html parser to parse the url content and store it in a variable.\n",
    "textContent = []\n",
    "names=[]\n",
    "amount=[]\n",
    "soup = BeautifulSoup(page_response.content, \"html.parser\")\n",
    "soup.findAll('p')\n",
    "for p in soup.findAll('p',href=True, attrs={'class':'entry-wrap'}):\n",
    "        name=a.find('h2',attrs={'class':'entry-title'})\n",
    "        amount= a.find('p',attrs={\"\"})\n",
    "        names.append(name.text)\n",
    "        amount.append(amount.text)\n",
    "\n",
    "df = pd.DataFrame({'name': names, 'amount': amount,})\n",
    "df.to_csv('products.csv', index=False, encoding='utf-8')"
   ]
  }
 ],
 "metadata": {
  "kernelspec": {
   "display_name": "Python 3",
   "language": "python",
   "name": "python3"
  },
  "language_info": {
   "codemirror_mode": {
    "name": "ipython",
    "version": 3
   },
   "file_extension": ".py",
   "mimetype": "text/x-python",
   "name": "python",
   "nbconvert_exporter": "python",
   "pygments_lexer": "ipython3",
   "version": "3.7.4"
  }
 },
 "nbformat": 4,
 "nbformat_minor": 2
}
